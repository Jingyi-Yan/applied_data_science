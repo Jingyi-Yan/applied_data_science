{
 "cells": [
  {
   "cell_type": "code",
   "execution_count": 365,
   "metadata": {},
   "outputs": [],
   "source": [
    "import numpy as np\n",
    "import pandas as pd\n",
    "\n",
    "import warnings\n",
    "warnings.filterwarnings('ignore')"
   ]
  },
  {
   "cell_type": "code",
   "execution_count": 366,
   "metadata": {},
   "outputs": [],
   "source": [
    "df = pd.read_csv('../../data/raw/winequalityN.csv')"
   ]
  },
  {
   "cell_type": "markdown",
   "metadata": {},
   "source": [
    "\n",
    "## PipeLine"
   ]
  },
  {
   "cell_type": "markdown",
   "metadata": {},
   "source": [
    "In this part, I will use automation of machine learning workflow to achieve the same operations in the Final Project.ipynb."
   ]
  },
  {
   "cell_type": "markdown",
   "metadata": {},
   "source": [
    "### Predefined Function to preprocess the data."
   ]
  },
  {
   "cell_type": "code",
   "execution_count": 374,
   "metadata": {},
   "outputs": [],
   "source": [
    "def cutBins(df):\n",
    "    \"\"\"\n",
    "    function: cut the quality to three bins\n",
    "    param: DataFrame\n",
    "    return: new DataFrame after cutting bins\n",
    "    \"\"\"\n",
    "    df_bins= df.copy()\n",
    "    bins = [0,4,7,10]\n",
    "\n",
    "    labels = [0,1,2] # 'low'=0, 'medium'=1,'high'=2\n",
    "    df_bins['quality_range']= pd.cut(x=df_bins['quality'], bins=bins, labels=labels)\n",
    "    df_bins = df_bins.drop('quality', axis=1) \n",
    "    return df_bins\n",
    "\n",
    "def mapToNumber(df):\n",
    "    \"\"\"\n",
    "    function: map the wine type from white to 0 and red to 1\n",
    "    param: DataFrame\n",
    "    return: new DataFrame after mapping the type\n",
    "    \"\"\"\n",
    "    df.type = df.type.map({'white':0, 'red':1})\n",
    "    return df\n",
    "\n",
    "def fillNullValues(df):\n",
    "    \"\"\"\n",
    "    function: fill the null value with mean\n",
    "    param: DataFrame\n",
    "    return: new DataFrame after filling the null Value\n",
    "    \"\"\"\n",
    "    df_mean = df.copy()\n",
    "    fill_list = (null_cell(df_mean)).index\n",
    "    for col in fill_list:\n",
    "        df_mean.loc[:, col].fillna(df_mean.loc[:, col].mean(), inplace=True)\n",
    "    return df_mean\n",
    "    \n",
    "def null_cell(df): \n",
    "    \"\"\"\n",
    "    function: find the null value and store them into list\n",
    "    param: DataFrame\n",
    "    return: null value\n",
    "    \"\"\"\n",
    "    total_missing_values = df.isnull().sum() \n",
    "    missing_values_per = df.isnull().sum()/df.isnull().count() \n",
    "    null_values = pd.concat([total_missing_values, missing_values_per], axis=1, keys=['total_null', 'total_null_perc']) \n",
    "    null_values = null_values.sort_values('total_null', ascending=False) \n",
    "    return null_values[null_values['total_null'] > 0] "
   ]
  },
  {
   "cell_type": "code",
   "execution_count": 375,
   "metadata": {},
   "outputs": [
    {
     "data": {
      "text/plain": [
       "4152    6\n",
       "931     5\n",
       "4252    6\n",
       "1743    6\n",
       "1238    7\n",
       "       ..\n",
       "905     4\n",
       "5192    6\n",
       "3980    5\n",
       "235     6\n",
       "5157    7\n",
       "Name: quality, Length: 5197, dtype: int64"
      ]
     },
     "execution_count": 375,
     "metadata": {},
     "output_type": "execute_result"
    }
   ],
   "source": [
    "y_train"
   ]
  },
  {
   "cell_type": "code",
   "execution_count": 376,
   "metadata": {},
   "outputs": [],
   "source": [
    "from sklearn.pipeline import Pipeline\n",
    "from sklearn.model_selection import train_test_split \n",
    "from sklearn.preprocessing import FunctionTransformer\n",
    "from sklearn.linear_model import LogisticRegression"
   ]
  },
  {
   "cell_type": "code",
   "execution_count": 377,
   "metadata": {},
   "outputs": [],
   "source": [
    "\n",
    "X = df[['type','quality','alcohol', 'density', 'volatile acidity', 'chlorides',\n",
    "       'citric acid', 'fixed acidity', 'free sulfur dioxide',\n",
    "       'total sulfur dioxide', 'sulphates', 'residual sugar', 'pH']] \n",
    "y = df.quality\n",
    "\n",
    "X=fillNullValues(X)\n",
    "X=cutBins(X)\n",
    "X=mapToNumber(X)\n",
    "\n",
    "X_train, X_test, y_train, y_test = train_test_split(X, y, \n",
    "                                                    test_size = 0.20, random_state = 1)"
   ]
  },
  {
   "cell_type": "code",
   "execution_count": 378,
   "metadata": {},
   "outputs": [],
   "source": [
    "logistic_model=Pipeline(steps=([('scaler',StandardScaler()),('LR', LogisticRegression())]))"
   ]
  },
  {
   "cell_type": "code",
   "execution_count": 379,
   "metadata": {},
   "outputs": [
    {
     "data": {
      "text/plain": [
       "Pipeline(memory=None,\n",
       "         steps=[('scaler',\n",
       "                 StandardScaler(copy=True, with_mean=True, with_std=True)),\n",
       "                ('LR',\n",
       "                 LogisticRegression(C=1.0, class_weight=None, dual=False,\n",
       "                                    fit_intercept=True, intercept_scaling=1,\n",
       "                                    l1_ratio=None, max_iter=100,\n",
       "                                    multi_class='warn', n_jobs=None,\n",
       "                                    penalty='l2', random_state=None,\n",
       "                                    solver='warn', tol=0.0001, verbose=0,\n",
       "                                    warm_start=False))],\n",
       "         verbose=False)"
      ]
     },
     "execution_count": 379,
     "metadata": {},
     "output_type": "execute_result"
    }
   ],
   "source": [
    "lr = logistic_model.fit(X_train,y_train)\n",
    "lr"
   ]
  },
  {
   "cell_type": "markdown",
   "metadata": {},
   "source": [
    "## Performance Evaluation "
   ]
  },
  {
   "cell_type": "code",
   "execution_count": 380,
   "metadata": {},
   "outputs": [
    {
     "data": {
      "text/plain": [
       "0.6053846153846154"
      ]
     },
     "execution_count": 380,
     "metadata": {},
     "output_type": "execute_result"
    }
   ],
   "source": [
    "from sklearn import metrics\n",
    "\n",
    "y_pred = lr.predict(X_test)\n",
    "metrics.accuracy_score(y_test, y_pred)"
   ]
  },
  {
   "cell_type": "code",
   "execution_count": null,
   "metadata": {},
   "outputs": [],
   "source": []
  }
 ],
 "metadata": {
  "kernelspec": {
   "display_name": "Python 3",
   "language": "python",
   "name": "python3"
  },
  "language_info": {
   "codemirror_mode": {
    "name": "ipython",
    "version": 3
   },
   "file_extension": ".py",
   "mimetype": "text/x-python",
   "name": "python",
   "nbconvert_exporter": "python",
   "pygments_lexer": "ipython3",
   "version": "3.7.4"
  }
 },
 "nbformat": 4,
 "nbformat_minor": 2
}
